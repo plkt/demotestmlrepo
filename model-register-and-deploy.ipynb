{
 "cells": [
  {
   "cell_type": "markdown",
   "metadata": {},
   "source": [
    "![Impressions](https://PixelServer20190423114238.azurewebsites.net/api/impressions/MachineLearningNotebooks/how-to-use-azureml/deployment/deploy-to-cloud/model-register-and-deploy.png)"
   ]
  },
  {
   "cell_type": "markdown",
   "metadata": {},
   "source": [
    "# Register model and deploy as webservice\n",
    "\n",
    "Following this notebook, you will:\n",
    "\n",
    " - Learn how to register a model in your Azure Machine Learning Workspace.\n",
    " - Deploy your model as a web service in an Azure Container Instance."
   ]
  },
  {
   "cell_type": "code",
   "execution_count": 3,
   "metadata": {},
   "outputs": [
    {
     "name": "stdout",
     "output_type": "stream",
     "text": [
      "SDK version: 1.0.76\n"
     ]
    }
   ],
   "source": [
    "import azureml.core\n",
    "from azureml.core import Workspace\n",
    "\n",
    "# Check core SDK version number.\n",
    "print('SDK version:', azureml.core.VERSION)"
   ]
  },
  {
   "cell_type": "markdown",
   "metadata": {},
   "source": [
    "## Initialize workspace\n",
    "\n",
    "Create a [Workspace](https://docs.microsoft.com/en-us/python/api/azureml-core/azureml.core.workspace%28class%29?view=azure-ml-py) object from your persisted configuration."
   ]
  },
  {
   "cell_type": "code",
   "execution_count": 4,
   "metadata": {},
   "outputs": [
    {
     "data": {
      "text/plain": [
       "{'ankhokha-ws': [Workspace.create(name='ankhokha-ws', subscription_id='c00d16c7-6c1f-4c03-9be1-6934a4c49682', resource_group='ankhokha-ml-drift')],\n",
       " 'ashkumadevtestwkrspace': [Workspace.create(name='ashkumadevtestwkrspace', subscription_id='c00d16c7-6c1f-4c03-9be1-6934a4c49682', resource_group='ashkuma_devtesting')],\n",
       " 'ashkumamlworkspace': [Workspace.create(name='ashkumamlworkspace', subscription_id='c00d16c7-6c1f-4c03-9be1-6934a4c49682', resource_group='ashkuma_devtesting')],\n",
       " 'gykuma-MLWS': [Workspace.create(name='gykuma-MLWS', subscription_id='c00d16c7-6c1f-4c03-9be1-6934a4c49682', resource_group='gykuma-RG')]}"
      ]
     },
     "execution_count": 4,
     "metadata": {},
     "output_type": "execute_result"
    }
   ],
   "source": [
    "import os\n",
    "\n",
    "# this will be backend script\n",
    "subscription_id = os.getenv(\"SUBSCRIPTION_ID\", default=\"c00d16c7-6c1f-4c03-9be1-6934a4c49682\")\n",
    "\n",
    "# if we want user to provide a resource_group then we must ask him. or we create a default resource group for him\n",
    "resource_group = os.getenv(\"RESOURCE_GROUP\", default=\"ashkuma_devtesting\")\n",
    "\n",
    "# this is not required if we intend to maintain a workspace for him. i.e. \n",
    "# on his first time we create a workspace for him if he doesn't have and then later use the same for subsequent work\n",
    "workspace_name = os.getenv(\"WORKSPACE_NAME\", default=\"ashkumamlworkspace\")\n",
    "\n",
    "# region can be fully automated with we selecting one region always.\n",
    "workspace_region = os.getenv(\"WORKSPACE_REGION\", default=\"southcentralUS\")\n",
    "\n",
    "from azureml.core import Workspace\n",
    "\n",
    "#based on his subscription first check if he has any workspaces \n",
    "# if he has workspace we don't need to create a new. \n",
    "# assume he doesn't have any workspace then.\n",
    "Workspace.list(subscription_id, auth=None, resource_group=None)"
   ]
  },
  {
   "cell_type": "code",
   "execution_count": 5,
   "metadata": {
    "tags": [
     "create workspace"
    ]
   },
   "outputs": [
    {
     "name": "stdout",
     "output_type": "stream",
     "text": [
      "ashkumadevtestwkrspace\n",
      "ashkuma_devtesting\n",
      "southcentralus\n",
      "c00d16c7-6c1f-4c03-9be1-6934a4c49682\n",
      "ashkumadevtestwkrspace\n",
      "ashkuma_devtesting\n",
      "southcentralus\n",
      "c00d16c7-6c1f-4c03-9be1-6934a4c49682\n"
     ]
    }
   ],
   "source": [
    "workspace_name_new =\"ashkumadevtestwkrspace\"\n",
    "ws = None\n",
    "try:\n",
    "    #ws = Workspace.from_config()\n",
    "    \n",
    "    if ws == None:\n",
    "        try :\n",
    "            ws = Workspace(subscription_id = subscription_id, resource_group = resource_group , workspace_name = workspace_name_new) # try to check if workspace exist \n",
    "        except:\n",
    "            ws = Workspace.create(name = workspace_name_new,\n",
    "                      subscription_id = subscription_id,\n",
    "                      resource_group = resource_group, \n",
    "                      location = workspace_region,\n",
    "                      create_resource_group = True,\n",
    "                      sku = 'basic',\n",
    "                      exist_ok = True)\n",
    "    print(ws.name, ws.resource_group, ws.location, ws.subscription_id, sep='\\n')\n",
    "    ws.write_config() # finally write the config\n",
    "except:\n",
    "    printf(\" unknown exception\")\n",
    "\n",
    "\n",
    "\n",
    "ws = Workspace.from_config()\n",
    "print(ws.name, ws.resource_group, ws.location, ws.subscription_id, sep='\\n')"
   ]
  },
  {
   "cell_type": "markdown",
   "metadata": {},
   "source": [
    "## Register input and output datasets\n",
    "\n",
    "For this example, we have provided a small model (`sklearn_regression_model.pkl` in the notebook's directory) that was trained on scikit-learn's [diabetes dataset](https://scikit-learn.org/stable/datasets/index.html#diabetes-dataset). Here, you will register the data used to create this model in your workspace."
   ]
  },
  {
   "cell_type": "code",
   "execution_count": null,
   "metadata": {},
   "outputs": [],
   "source": [
    "from azureml.core import Dataset\n",
    "\n",
    "datastore = ws.get_default_datastore()\n",
    "datastore.upload_files(files=['./features.csv', './labels.csv'],\n",
    "                       target_path='sklearn_regression/',\n",
    "                       overwrite=True)\n",
    "\n",
    "input_dataset = Dataset.Tabular.from_delimited_files(path=[(datastore, 'sklearn_regression/features.csv')])\n",
    "output_dataset = Dataset.Tabular.from_delimited_files(path=[(datastore, 'sklearn_regression/labels.csv')])"
   ]
  },
  {
   "cell_type": "markdown",
   "metadata": {},
   "source": [
    "## Register model\n",
    "\n",
    "Register a file or folder as a model by calling [Model.register()](https://docs.microsoft.com/en-us/python/api/azureml-core/azureml.core.model.model?view=azure-ml-py#register-workspace--model-path--model-name--tags-none--properties-none--description-none--datasets-none--model-framework-none--model-framework-version-none--child-paths-none-).\n",
    "\n",
    "In addition to the content of the model file itself, your registered model will also store model metadata -- model description, tags, and framework information -- that will be useful when managing and deploying models in your workspace. Using tags, for instance, you can categorize your models and apply filters when listing models in your workspace. Also, marking this model with the scikit-learn framework will simplify deploying it as a web service, as we'll see later."
   ]
  },
  {
   "cell_type": "code",
   "execution_count": null,
   "metadata": {
    "tags": [
     "register model from file",
     "sample-model-register"
    ]
   },
   "outputs": [],
   "source": [
    "from azureml.core import Model\n",
    "from azureml.core.resource_configuration import ResourceConfiguration\n",
    "\n",
    "model = Model.register(workspace=ws,\n",
    "                       model_name='my-sklearn-model',                # Name of the registered model in your workspace.\n",
    "                       model_path='./sklearn_regression_model.pkl',  # Local file to upload and register as a model.\n",
    "                       model_framework=Model.Framework.SCIKITLEARN,  # Framework used to create the model.\n",
    "                       model_framework_version='0.19.1',             # Version of scikit-learn used to create the model.\n",
    "                       sample_input_dataset=input_dataset,\n",
    "                       sample_output_dataset=output_dataset,\n",
    "                       resource_configuration=ResourceConfiguration(cpu=1, memory_in_gb=0.5),\n",
    "                       description='Ridge regression model to predict diabetes progression.',\n",
    "                       tags={'area': 'diabetes', 'type': 'regression'})\n",
    "\n",
    "print('Name:', model.name)\n",
    "print('Version:', model.version)"
   ]
  },
  {
   "cell_type": "markdown",
   "metadata": {},
   "source": [
    "## Deploy model\n",
    "\n",
    "Deploy your model as a web service using [Model.deploy()](https://docs.microsoft.com/en-us/python/api/azureml-core/azureml.core.model.model?view=azure-ml-py#deploy-workspace--name--models--inference-config--deployment-config-none--deployment-target-none-). Web services take one or more models, load them in an environment, and run them on one of several supported deployment targets. For more information on all your options when deploying models, see the [next steps](#Next-steps) section at the end of this notebook.\n",
    "\n",
    "For this example, we will deploy your scikit-learn model to an Azure Container Instance (ACI)."
   ]
  },
  {
   "cell_type": "markdown",
   "metadata": {},
   "source": [
    "### Use a default environment (for supported models)\n",
    "\n",
    "The Azure Machine Learning service provides a default environment for supported model frameworks, including scikit-learn, based on the metadata you provided when registering your model. This is the easiest way to deploy your model.\n",
    "\n",
    "**Note**: This step can take several minutes."
   ]
  },
  {
   "cell_type": "code",
   "execution_count": null,
   "metadata": {},
   "outputs": [],
   "source": [
    "from azureml.core import Webservice\n",
    "from azureml.exceptions import WebserviceException\n",
    "\n",
    "service_name = 'my-sklearn-service'\n",
    "\n",
    "# Remove any existing service under the same name.\n",
    "try:\n",
    "    Webservice(ws, service_name).delete()\n",
    "except WebserviceException:\n",
    "    pass\n",
    "\n",
    "service = Model.deploy(ws, service_name, [model])\n",
    "service.wait_for_deployment(show_output=True)"
   ]
  },
  {
   "cell_type": "markdown",
   "metadata": {},
   "source": [
    "After your model is deployed, perform a call to the web service using [service.run()](https://docs.microsoft.com/en-us/python/api/azureml-core/azureml.core.webservice%28class%29?view=azure-ml-py#run-input-)."
   ]
  },
  {
   "cell_type": "code",
   "execution_count": null,
   "metadata": {},
   "outputs": [],
   "source": [
    "import json\n",
    "\n",
    "input_payload = json.dumps({\n",
    "    'data': [\n",
    "        [ 0.03807591,  0.05068012,  0.06169621, 0.02187235, -0.0442235,\n",
    "         -0.03482076, -0.04340085, -0.00259226, 0.01990842, -0.01764613]\n",
    "    ],\n",
    "    'method': 'predict'  # If you have a classification model, you can get probabilities by changing this to 'predict_proba'.\n",
    "})\n",
    "\n",
    "output = service.run(input_payload)\n",
    "\n",
    "print(output)"
   ]
  },
  {
   "cell_type": "markdown",
   "metadata": {},
   "source": [
    "When you are finished testing your service, clean up the deployment with [service.delete()](https://docs.microsoft.com/en-us/python/api/azureml-core/azureml.core.webservice%28class%29?view=azure-ml-py#delete--)."
   ]
  },
  {
   "cell_type": "code",
   "execution_count": null,
   "metadata": {},
   "outputs": [],
   "source": [
    "service.delete()"
   ]
  },
  {
   "cell_type": "markdown",
   "metadata": {},
   "source": [
    "### Use a custom environment (for all models)\n",
    "\n",
    "If you want more control over how your model is run, if it uses another framework, or if it has special runtime requirements, you can instead specify your own environment and scoring method.\n",
    "\n",
    "Specify the model's runtime environment by creating an [Environment](https://docs.microsoft.com/en-us/python/api/azureml-core/azureml.core.environment%28class%29?view=azure-ml-py) object and providing the [CondaDependencies](https://docs.microsoft.com/en-us/python/api/azureml-core/azureml.core.conda_dependencies.condadependencies?view=azure-ml-py) needed by your model."
   ]
  },
  {
   "cell_type": "code",
   "execution_count": null,
   "metadata": {},
   "outputs": [],
   "source": [
    "from azureml.core import Environment\n",
    "from azureml.core.conda_dependencies import CondaDependencies\n",
    "\n",
    "environment = Environment('my-sklearn-environment')\n",
    "environment.python.conda_dependencies = CondaDependencies.create(pip_packages=[\n",
    "    'azureml-defaults',\n",
    "    'inference-schema[numpy-support]',\n",
    "    'joblib',\n",
    "    'numpy',\n",
    "    'scikit-learn'\n",
    "])"
   ]
  },
  {
   "cell_type": "markdown",
   "metadata": {},
   "source": [
    "When using a custom environment, you must also provide Python code for initializing and running your model. An example script is included with this notebook."
   ]
  },
  {
   "cell_type": "code",
   "execution_count": null,
   "metadata": {},
   "outputs": [],
   "source": [
    "with open('score.py') as f:\n",
    "    print(f.read())"
   ]
  },
  {
   "cell_type": "markdown",
   "metadata": {},
   "source": [
    "Deploy your model in the custom environment by providing an [InferenceConfig](https://docs.microsoft.com/en-us/python/api/azureml-core/azureml.core.model.inferenceconfig?view=azure-ml-py) object to [Model.deploy()](https://docs.microsoft.com/en-us/python/api/azureml-core/azureml.core.model.model?view=azure-ml-py#deploy-workspace--name--models--inference-config--deployment-config-none--deployment-target-none-).\n",
    "\n",
    "**Note**: This step can take several minutes."
   ]
  },
  {
   "cell_type": "code",
   "execution_count": null,
   "metadata": {
    "tags": [
     "azuremlexception-remarks-sample"
    ]
   },
   "outputs": [],
   "source": [
    "from azureml.core import Webservice\n",
    "from azureml.core.model import InferenceConfig\n",
    "from azureml.exceptions import WebserviceException\n",
    "\n",
    "service_name = 'my-custom-env-service'\n",
    "\n",
    "# Remove any existing service under the same name.\n",
    "try:\n",
    "    Webservice(ws, service_name).delete()\n",
    "except WebserviceException:\n",
    "    pass\n",
    "\n",
    "inference_config = InferenceConfig(entry_script='score.py',\n",
    "                                   source_directory='.',\n",
    "                                   environment=environment)\n",
    "\n",
    "service = Model.deploy(ws, service_name, [model], inference_config)\n",
    "service.wait_for_deployment(show_output=True)"
   ]
  },
  {
   "cell_type": "markdown",
   "metadata": {},
   "source": [
    "After your model is deployed, make a call to the web service using [service.run()](https://docs.microsoft.com/en-us/python/api/azureml-core/azureml.core.webservice%28class%29?view=azure-ml-py#run-input-)."
   ]
  },
  {
   "cell_type": "code",
   "execution_count": null,
   "metadata": {},
   "outputs": [],
   "source": [
    "import json\n",
    "\n",
    "input_payload = json.dumps({\n",
    "    'data': [\n",
    "        [ 0.03807591,  0.05068012,  0.06169621, 0.02187235, -0.0442235,\n",
    "         -0.03482076, -0.04340085, -0.00259226, 0.01990842, -0.01764613]\n",
    "    ]\n",
    "})\n",
    "\n",
    "output = service.run(input_payload)\n",
    "\n",
    "print(output)"
   ]
  },
  {
   "cell_type": "markdown",
   "metadata": {},
   "source": [
    "When you are finished testing your service, clean up the deployment with [service.delete()](https://docs.microsoft.com/en-us/python/api/azureml-core/azureml.core.webservice%28class%29?view=azure-ml-py#delete--)."
   ]
  },
  {
   "cell_type": "code",
   "execution_count": null,
   "metadata": {},
   "outputs": [],
   "source": [
    "service.delete()"
   ]
  },
  {
   "cell_type": "markdown",
   "metadata": {},
   "source": [
    "### Model profiling\n",
    "\n",
    "You can also take advantage of the profiling feature to estimate CPU and memory requirements for models.\n",
    "\n",
    "```python\n",
    "profile = Model.profile(ws, \"profilename\", [model], inference_config, test_sample)\n",
    "profile.wait_for_profiling(True)\n",
    "profiling_results = profile.get_results()\n",
    "print(profiling_results)\n",
    "```"
   ]
  },
  {
   "cell_type": "markdown",
   "metadata": {},
   "source": [
    "### Model packaging\n",
    "\n",
    "If you want to build a Docker image that encapsulates your model and its dependencies, you can use the model packaging option. The output image will be pushed to your workspace's ACR.\n",
    "\n",
    "You must include an Environment object in your inference configuration to use `Model.package()`.\n",
    "\n",
    "```python\n",
    "package = Model.package(ws, [model], inference_config)\n",
    "package.wait_for_creation(show_output=True)  # Or show_output=False to hide the Docker build logs.\n",
    "package.pull()\n",
    "```\n",
    "\n",
    "Instead of a fully-built image, you can also generate a Dockerfile and download all the assets needed to build an image on top of your Environment.\n",
    "\n",
    "```python\n",
    "package = Model.package(ws, [model], inference_config, generate_dockerfile=True)\n",
    "package.wait_for_creation(show_output=True)\n",
    "package.save(\"./local_context_dir\")\n",
    "```"
   ]
  }
 ],
 "metadata": {
  "authors": [
   {
    "name": "aashishb"
   }
  ],
  "category": "deployment",
  "compute": [
   "None"
  ],
  "datasets": [
   "Diabetes"
  ],
  "deployment": [
   "Azure Container Instance"
  ],
  "exclude_from_index": false,
  "framework": [
   "Scikit-learn"
  ],
  "friendly_name": "Register model and deploy as webservice",
  "index_order": 3,
  "kernelspec": {
   "display_name": "Python 3",
   "language": "python",
   "name": "python3"
  },
  "language_info": {
   "codemirror_mode": {
    "name": "ipython",
    "version": 3
   },
   "file_extension": ".py",
   "mimetype": "text/x-python",
   "name": "python",
   "nbconvert_exporter": "python",
   "pygments_lexer": "ipython3",
   "version": "3.6.9"
  },
  "star_tag": [
   "featured"
  ],
  "tags": [
   "None"
  ],
  "task": "Deploy a model with Azure Machine Learning",
  "varInspector": {
   "cols": {
    "lenName": 16,
    "lenType": 16,
    "lenVar": 40
   },
   "kernels_config": {
    "python": {
     "delete_cmd_postfix": "",
     "delete_cmd_prefix": "del ",
     "library": "var_list.py",
     "varRefreshCmd": "print(var_dic_list())"
    },
    "r": {
     "delete_cmd_postfix": ") ",
     "delete_cmd_prefix": "rm(",
     "library": "var_list.r",
     "varRefreshCmd": "cat(var_dic_list()) "
    }
   },
   "types_to_exclude": [
    "module",
    "function",
    "builtin_function_or_method",
    "instance",
    "_Feature"
   ],
   "window_display": false
  }
 },
 "nbformat": 4,
 "nbformat_minor": 4
}
